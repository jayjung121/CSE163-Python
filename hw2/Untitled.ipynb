{
 "cells": [
  {
   "cell_type": "code",
   "execution_count": 102,
   "metadata": {},
   "outputs": [],
   "source": [
    "df = parse('pokemon_jay.csv')"
   ]
  },
  {
   "cell_type": "code",
   "execution_count": 103,
   "metadata": {},
   "outputs": [
    {
     "data": {
      "text/plain": [
       "74"
      ]
     },
     "execution_count": 103,
     "metadata": {},
     "output_type": "execute_result"
    }
   ],
   "source": [
    "species_count(df)"
   ]
  },
  {
   "cell_type": "code",
   "execution_count": 109,
   "metadata": {},
   "outputs": [
    {
     "name": "stdout",
     "output_type": "stream",
     "text": [
      "42    True\n",
      "Name: name, dtype: bool\n"
     ]
    }
   ],
   "source": []
  },
  {
   "cell_type": "code",
   "execution_count": 112,
   "metadata": {},
   "outputs": [
    {
     "data": {
      "text/plain": [
       "(42    Victreebel\n",
       " Name: name, dtype: object, 42    100\n",
       " Name: level, dtype: int64)"
      ]
     },
     "execution_count": 112,
     "metadata": {},
     "output_type": "execute_result"
    }
   ],
   "source": [
    "max_level(df)"
   ]
  },
  {
   "cell_type": "code",
   "execution_count": 114,
   "metadata": {},
   "outputs": [
    {
     "data": {
      "text/plain": [
       "['Seaking',\n",
       " 'Vaporeon',\n",
       " 'Spearow',\n",
       " 'Rapidash',\n",
       " 'Lickitung',\n",
       " 'Vaporeon',\n",
       " 'Doduo',\n",
       " 'Clefairy',\n",
       " 'Starmie',\n",
       " 'Moltres']"
      ]
     },
     "execution_count": 114,
     "metadata": {},
     "output_type": "execute_result"
    }
   ],
   "source": [
    "filter_range(df, 60, 70)"
   ]
  },
  {
   "cell_type": "code",
   "execution_count": 118,
   "metadata": {},
   "outputs": [
    {
     "data": {
      "text/plain": [
       "{'bug': 3,\n",
       " 'electric': 1,\n",
       " 'fairy': 1,\n",
       " 'fighting': 2,\n",
       " 'fire': 3,\n",
       " 'flying': 3,\n",
       " 'ghost': 3,\n",
       " 'grass': 3,\n",
       " 'ground': 2,\n",
       " 'normal': 2,\n",
       " 'poison': 3,\n",
       " 'psychic': 2,\n",
       " 'rock': 2,\n",
       " 'water': 2}"
      ]
     },
     "execution_count": 118,
     "metadata": {},
     "output_type": "execute_result"
    }
   ],
   "source": [
    "highest_stage_per_type(df)"
   ]
  },
  {
   "cell_type": "code",
   "execution_count": null,
   "metadata": {},
   "outputs": [],
   "source": []
  },
  {
   "cell_type": "code",
   "execution_count": 117,
   "metadata": {},
   "outputs": [
    {
     "data": {
      "text/plain": [
       "{'bug': 3,\n",
       " 'electric': 1,\n",
       " 'fairy': 3,\n",
       " 'fighting': 3,\n",
       " 'fire': 13,\n",
       " 'flying': 6,\n",
       " 'ghost': 3,\n",
       " 'grass': 15,\n",
       " 'ground': 4,\n",
       " 'normal': 8,\n",
       " 'poison': 10,\n",
       " 'psychic': 4,\n",
       " 'rock': 6,\n",
       " 'water': 20}"
      ]
     },
     "execution_count": 117,
     "metadata": {},
     "output_type": "execute_result"
    }
   ],
   "source": [
    "count_types(df)"
   ]
  },
  {
   "cell_type": "code",
   "execution_count": 173,
   "metadata": {},
   "outputs": [],
   "source": [
    "def max_level(df):\n",
    "    x = df.loc[(df['level'] == max(df['level']))][]\n",
    "    return x[x.index]"
   ]
  },
  {
   "cell_type": "code",
   "execution_count": 192,
   "metadata": {},
   "outputs": [
    {
     "data": {
      "text/plain": [
       "42"
      ]
     },
     "execution_count": 192,
     "metadata": {},
     "output_type": "execute_result"
    }
   ],
   "source": [
    "df[df['level'] == max(df['level'])].index[0]"
   ]
  },
  {
   "cell_type": "code",
   "execution_count": 194,
   "metadata": {},
   "outputs": [],
   "source": [
    "vv = df[df['level'] == max(df['level'])].iloc[0,:]"
   ]
  },
  {
   "cell_type": "code",
   "execution_count": 195,
   "metadata": {},
   "outputs": [
    {
     "data": {
      "text/plain": [
       "'Victreebel'"
      ]
     },
     "execution_count": 195,
     "metadata": {},
     "output_type": "execute_result"
    }
   ],
   "source": [
    "vv['name']"
   ]
  },
  {
   "cell_type": "code",
   "execution_count": 174,
   "metadata": {},
   "outputs": [
    {
     "data": {
      "text/plain": [
       "pandas.core.frame.DataFrame"
      ]
     },
     "execution_count": 174,
     "metadata": {},
     "output_type": "execute_result"
    }
   ],
   "source": [
    "x = max_level(df)\n",
    "type(x)"
   ]
  },
  {
   "cell_type": "code",
   "execution_count": 179,
   "metadata": {},
   "outputs": [
    {
     "data": {
      "text/plain": [
       "Int64Index([42], dtype='int64')"
      ]
     },
     "execution_count": 179,
     "metadata": {},
     "output_type": "execute_result"
    }
   ],
   "source": [
    "x.index"
   ]
  },
  {
   "cell_type": "code",
   "execution_count": 182,
   "metadata": {},
   "outputs": [
    {
     "data": {
      "text/html": [
       "<div>\n",
       "<style scoped>\n",
       "    .dataframe tbody tr th:only-of-type {\n",
       "        vertical-align: middle;\n",
       "    }\n",
       "\n",
       "    .dataframe tbody tr th {\n",
       "        vertical-align: top;\n",
       "    }\n",
       "\n",
       "    .dataframe thead th {\n",
       "        text-align: right;\n",
       "    }\n",
       "</style>\n",
       "<table border=\"1\" class=\"dataframe\">\n",
       "  <thead>\n",
       "    <tr style=\"text-align: right;\">\n",
       "      <th></th>\n",
       "      <th>id</th>\n",
       "      <th>name</th>\n",
       "      <th>level</th>\n",
       "      <th>personality</th>\n",
       "      <th>type</th>\n",
       "      <th>weakness</th>\n",
       "      <th>atk</th>\n",
       "      <th>def</th>\n",
       "      <th>hp</th>\n",
       "      <th>stage</th>\n",
       "    </tr>\n",
       "  </thead>\n",
       "  <tbody>\n",
       "    <tr>\n",
       "      <th>42</th>\n",
       "      <td>71</td>\n",
       "      <td>Victreebel</td>\n",
       "      <td>100</td>\n",
       "      <td>gentle</td>\n",
       "      <td>grass</td>\n",
       "      <td>fire</td>\n",
       "      <td>185</td>\n",
       "      <td>190</td>\n",
       "      <td>89</td>\n",
       "      <td>3</td>\n",
       "    </tr>\n",
       "  </tbody>\n",
       "</table>\n",
       "</div>"
      ],
      "text/plain": [
       "    id        name  level personality   type weakness  atk  def  hp  stage\n",
       "42  71  Victreebel    100      gentle  grass     fire  185  190  89      3"
      ]
     },
     "execution_count": 182,
     "metadata": {},
     "output_type": "execute_result"
    }
   ],
   "source": [
    "x[]"
   ]
  },
  {
   "cell_type": "code",
   "execution_count": 181,
   "metadata": {
    "scrolled": true
   },
   "outputs": [
    {
     "data": {
      "text/html": [
       "<div>\n",
       "<style scoped>\n",
       "    .dataframe tbody tr th:only-of-type {\n",
       "        vertical-align: middle;\n",
       "    }\n",
       "\n",
       "    .dataframe tbody tr th {\n",
       "        vertical-align: top;\n",
       "    }\n",
       "\n",
       "    .dataframe thead th {\n",
       "        text-align: right;\n",
       "    }\n",
       "</style>\n",
       "<table border=\"1\" class=\"dataframe\">\n",
       "  <thead>\n",
       "    <tr style=\"text-align: right;\">\n",
       "      <th></th>\n",
       "      <th>id</th>\n",
       "      <th>name</th>\n",
       "      <th>level</th>\n",
       "      <th>personality</th>\n",
       "      <th>type</th>\n",
       "      <th>weakness</th>\n",
       "      <th>atk</th>\n",
       "      <th>def</th>\n",
       "      <th>hp</th>\n",
       "      <th>stage</th>\n",
       "    </tr>\n",
       "  </thead>\n",
       "  <tbody>\n",
       "    <tr>\n",
       "      <th>42</th>\n",
       "      <td>71</td>\n",
       "      <td>Victreebel</td>\n",
       "      <td>100</td>\n",
       "      <td>gentle</td>\n",
       "      <td>grass</td>\n",
       "      <td>fire</td>\n",
       "      <td>185</td>\n",
       "      <td>190</td>\n",
       "      <td>89</td>\n",
       "      <td>3</td>\n",
       "    </tr>\n",
       "  </tbody>\n",
       "</table>\n",
       "</div>"
      ],
      "text/plain": [
       "    id        name  level personality   type weakness  atk  def  hp  stage\n",
       "42  71  Victreebel    100      gentle  grass     fire  185  190  89      3"
      ]
     },
     "execution_count": 181,
     "metadata": {},
     "output_type": "execute_result"
    }
   ],
   "source": [
    "x.loc[x.index,:]"
   ]
  },
  {
   "cell_type": "code",
   "execution_count": 122,
   "metadata": {},
   "outputs": [],
   "source": [
    "\n",
    "import pandas as pd\n",
    "\n",
    "\n",
    "# Write your functions here!\n",
    "def parse(file_name):\n",
    "    return pd.read_csv(file_name, header=0)\n",
    "\n",
    "\n",
    "def species_count(df):\n",
    "    return len(pd.unique(df.loc[:,'name']))\n",
    "\n",
    "def max_level(df):\n",
    "    x = df.loc[df['level'] == max(df['level'])]\n",
    "    return (x['name'], x['level'])\n",
    "    \n",
    "def filter_range(df, min, max):\n",
    "    return df[(df['level'] >= min) & (df['level'] < max)]['name'].tolist()\n",
    "\n",
    "def mean_attack_for_type(df, type):\n",
    "    atk = df[df['type'] == type]['atk']\n",
    "    return atk.mean()\n",
    "\n",
    "def count_types(df):\n",
    "    type_df = df.groupby(by = 'type').apply(len)\n",
    "    result = {}\n",
    "    for type, num in type_df.items():\n",
    "        result[type] = num\n",
    "    return result\n",
    "\n",
    "def highest_stage_per_type(df):\n",
    "    stage_df = df.groupby('type')['stage'].apply(max)\n",
    "    result = {}\n",
    "    for type, stage in stage_df.items():\n",
    "        result[type] = stage\n",
    "    return result\n",
    "\n",
    "def mean(values):\n",
    "    return sum(values)/ len(values)\n",
    "\n",
    "\n",
    "def mean_attack_per_type(df):\n",
    "    df = df.groupby('type')['atk'].apply(mean)\n",
    "    result = {}\n",
    "    for key, value in df.items():\n",
    "        result[key] = round(value, 2)\n",
    "    return result\n",
    "    "
   ]
  },
  {
   "cell_type": "code",
   "execution_count": 143,
   "metadata": {},
   "outputs": [],
   "source": [
    "def count_types(df):\n",
    "    type_df = df.groupby(by='type').apply(len)\n",
    "    result = {}\n",
    "    for type, num in type_df.items():\n",
    "        result[type] = num\n",
    "    return result"
   ]
  },
  {
   "cell_type": "code",
   "execution_count": 149,
   "metadata": {},
   "outputs": [
    {
     "data": {
      "text/plain": [
       "{'bug': 3,\n",
       " 'electric': 1,\n",
       " 'fairy': 3,\n",
       " 'fighting': 3,\n",
       " 'fire': 13,\n",
       " 'flying': 6,\n",
       " 'ghost': 3,\n",
       " 'grass': 15,\n",
       " 'ground': 4,\n",
       " 'normal': 8,\n",
       " 'poison': 10,\n",
       " 'psychic': 4,\n",
       " 'rock': 6,\n",
       " 'water': 20}"
      ]
     },
     "execution_count": 149,
     "metadata": {},
     "output_type": "execute_result"
    }
   ],
   "source": [
    "count_types(df)"
   ]
  },
  {
   "cell_type": "code",
   "execution_count": null,
   "metadata": {},
   "outputs": [],
   "source": []
  },
  {
   "cell_type": "code",
   "execution_count": 140,
   "metadata": {},
   "outputs": [],
   "source": [
    "def count_types(data):\n",
    "    result = {}\n",
    "    for i in enumerate(data):\n",
    "        print(i)\n",
    "#         p_type = i['type']\n",
    "#         if p_type in result.keys():\n",
    "#             result[p_type] += 1\n",
    "#         else:\n",
    "#             result[p_type] = 1\n",
    "    return result"
   ]
  },
  {
   "cell_type": "code",
   "execution_count": 141,
   "metadata": {},
   "outputs": [
    {
     "data": {
      "text/plain": [
       "id                   53\n",
       "name            Persian\n",
       "level                40\n",
       "personality        mild\n",
       "type             normal\n",
       "weakness       fighting\n",
       "atk                 104\n",
       "def                 116\n",
       "hp                  147\n",
       "stage                 2\n",
       "Name: 0, dtype: object"
      ]
     },
     "execution_count": 141,
     "metadata": {},
     "output_type": "execute_result"
    }
   ],
   "source": [
    "df.loc[0,:]"
   ]
  },
  {
   "cell_type": "code",
   "execution_count": 142,
   "metadata": {},
   "outputs": [
    {
     "name": "stdout",
     "output_type": "stream",
     "text": [
      "(0, 'id')\n",
      "(1, 'name')\n",
      "(2, 'level')\n",
      "(3, 'personality')\n",
      "(4, 'type')\n",
      "(5, 'weakness')\n",
      "(6, 'atk')\n",
      "(7, 'def')\n",
      "(8, 'hp')\n",
      "(9, 'stage')\n"
     ]
    },
    {
     "data": {
      "text/plain": [
       "{}"
      ]
     },
     "execution_count": 142,
     "metadata": {},
     "output_type": "execute_result"
    }
   ],
   "source": [
    "count_types(df)"
   ]
  },
  {
   "cell_type": "code",
   "execution_count": 123,
   "metadata": {},
   "outputs": [
    {
     "data": {
      "text/plain": [
       "{'bug': 25.0,\n",
       " 'electric': 64.0,\n",
       " 'fairy': 76.33,\n",
       " 'fighting': 99.67,\n",
       " 'fire': 99.31,\n",
       " 'flying': 110.83,\n",
       " 'ghost': 88.0,\n",
       " 'grass': 97.0,\n",
       " 'ground': 110.25,\n",
       " 'normal': 119.88,\n",
       " 'poison': 123.7,\n",
       " 'psychic': 127.75,\n",
       " 'rock': 88.17,\n",
       " 'water': 101.8}"
      ]
     },
     "execution_count": 123,
     "metadata": {},
     "output_type": "execute_result"
    }
   ],
   "source": [
    "mean_attack_per_type(df)"
   ]
  },
  {
   "cell_type": "code",
   "execution_count": 86,
   "metadata": {
    "scrolled": true
   },
   "outputs": [
    {
     "data": {
      "text/plain": [
       "{'bug': 3,\n",
       " 'electric': 1,\n",
       " 'fairy': 1,\n",
       " 'fighting': 2,\n",
       " 'fire': 3,\n",
       " 'flying': 3,\n",
       " 'ghost': 3,\n",
       " 'grass': 3,\n",
       " 'ground': 2,\n",
       " 'normal': 2,\n",
       " 'poison': 3,\n",
       " 'psychic': 3,\n",
       " 'rock': 3,\n",
       " 'water': 2}"
      ]
     },
     "execution_count": 86,
     "metadata": {},
     "output_type": "execute_result"
    }
   ],
   "source": [
    "highest_stage_per_type(df)"
   ]
  },
  {
   "cell_type": "code",
   "execution_count": 70,
   "metadata": {},
   "outputs": [
    {
     "data": {
      "text/plain": [
       "pandas.core.series.Series"
      ]
     },
     "execution_count": 70,
     "metadata": {},
     "output_type": "execute_result"
    }
   ],
   "source": [
    "type_df = df.groupby(by = 'type').apply(len)\n",
    "type(type_df)"
   ]
  },
  {
   "cell_type": "code",
   "execution_count": null,
   "metadata": {},
   "outputs": [],
   "source": []
  },
  {
   "cell_type": "code",
   "execution_count": null,
   "metadata": {},
   "outputs": [],
   "source": []
  },
  {
   "cell_type": "code",
   "execution_count": 68,
   "metadata": {},
   "outputs": [
    {
     "data": {
      "text/plain": [
       "{'bug': 3,\n",
       " 'electric': 1,\n",
       " 'fairy': 3,\n",
       " 'fighting': 3,\n",
       " 'fire': 15,\n",
       " 'flying': 6,\n",
       " 'ghost': 3,\n",
       " 'grass': 17,\n",
       " 'ground': 5,\n",
       " 'normal': 10,\n",
       " 'poison': 12,\n",
       " 'psychic': 6,\n",
       " 'rock': 7,\n",
       " 'water': 24}"
      ]
     },
     "execution_count": 68,
     "metadata": {},
     "output_type": "execute_result"
    }
   ],
   "source": [
    "count_types(df)"
   ]
  },
  {
   "cell_type": "code",
   "execution_count": 56,
   "metadata": {},
   "outputs": [
    {
     "data": {
      "text/plain": [
       "99.4"
      ]
     },
     "execution_count": 56,
     "metadata": {},
     "output_type": "execute_result"
    }
   ],
   "source": [
    "mean_attack_for_type(df,'fire')"
   ]
  },
  {
   "cell_type": "code",
   "execution_count": 35,
   "metadata": {},
   "outputs": [
    {
     "data": {
      "text/plain": [
       "42    100\n",
       "Name: level, dtype: int64"
      ]
     },
     "execution_count": 35,
     "metadata": {},
     "output_type": "execute_result"
    }
   ],
   "source": [
    "v = max_level(df)\n",
    "v[1]"
   ]
  },
  {
   "cell_type": "code",
   "execution_count": 95,
   "metadata": {},
   "outputs": [
    {
     "data": {
      "text/html": [
       "<div>\n",
       "<style scoped>\n",
       "    .dataframe tbody tr th:only-of-type {\n",
       "        vertical-align: middle;\n",
       "    }\n",
       "\n",
       "    .dataframe tbody tr th {\n",
       "        vertical-align: top;\n",
       "    }\n",
       "\n",
       "    .dataframe thead th {\n",
       "        text-align: right;\n",
       "    }\n",
       "</style>\n",
       "<table border=\"1\" class=\"dataframe\">\n",
       "  <thead>\n",
       "    <tr style=\"text-align: right;\">\n",
       "      <th></th>\n",
       "      <th>id</th>\n",
       "      <th>name</th>\n",
       "      <th>level</th>\n",
       "      <th>personality</th>\n",
       "      <th>type</th>\n",
       "      <th>weakness</th>\n",
       "      <th>atk</th>\n",
       "      <th>def</th>\n",
       "      <th>hp</th>\n",
       "      <th>stage</th>\n",
       "    </tr>\n",
       "  </thead>\n",
       "  <tbody>\n",
       "    <tr>\n",
       "      <th>0</th>\n",
       "      <td>53</td>\n",
       "      <td>Persian</td>\n",
       "      <td>40</td>\n",
       "      <td>mild</td>\n",
       "      <td>normal</td>\n",
       "      <td>fighting</td>\n",
       "      <td>104</td>\n",
       "      <td>116</td>\n",
       "      <td>147</td>\n",
       "      <td>2</td>\n",
       "    </tr>\n",
       "    <tr>\n",
       "      <th>1</th>\n",
       "      <td>126</td>\n",
       "      <td>Magmar</td>\n",
       "      <td>44</td>\n",
       "      <td>docile</td>\n",
       "      <td>fire</td>\n",
       "      <td>water</td>\n",
       "      <td>96</td>\n",
       "      <td>83</td>\n",
       "      <td>153</td>\n",
       "      <td>1</td>\n",
       "    </tr>\n",
       "    <tr>\n",
       "      <th>2</th>\n",
       "      <td>99</td>\n",
       "      <td>Kingler</td>\n",
       "      <td>33</td>\n",
       "      <td>adamant</td>\n",
       "      <td>water</td>\n",
       "      <td>electric</td>\n",
       "      <td>110</td>\n",
       "      <td>169</td>\n",
       "      <td>29</td>\n",
       "      <td>2</td>\n",
       "    </tr>\n",
       "    <tr>\n",
       "      <th>3</th>\n",
       "      <td>57</td>\n",
       "      <td>Primeape</td>\n",
       "      <td>9</td>\n",
       "      <td>lonely</td>\n",
       "      <td>fighting</td>\n",
       "      <td>flying</td>\n",
       "      <td>20</td>\n",
       "      <td>66</td>\n",
       "      <td>43</td>\n",
       "      <td>2</td>\n",
       "    </tr>\n",
       "    <tr>\n",
       "      <th>4</th>\n",
       "      <td>3</td>\n",
       "      <td>Venusaur</td>\n",
       "      <td>44</td>\n",
       "      <td>sassy</td>\n",
       "      <td>grass</td>\n",
       "      <td>fire</td>\n",
       "      <td>136</td>\n",
       "      <td>195</td>\n",
       "      <td>92</td>\n",
       "      <td>3</td>\n",
       "    </tr>\n",
       "  </tbody>\n",
       "</table>\n",
       "</div>"
      ],
      "text/plain": [
       "    id      name  level personality      type  weakness  atk  def   hp  stage\n",
       "0   53   Persian     40        mild    normal  fighting  104  116  147      2\n",
       "1  126    Magmar     44      docile      fire     water   96   83  153      1\n",
       "2   99   Kingler     33     adamant     water  electric  110  169   29      2\n",
       "3   57  Primeape      9      lonely  fighting    flying   20   66   43      2\n",
       "4    3  Venusaur     44       sassy     grass      fire  136  195   92      3"
      ]
     },
     "execution_count": 95,
     "metadata": {},
     "output_type": "execute_result"
    }
   ],
   "source": [
    "df = parse('pokemon_box.csv')\n",
    "df.head()\n"
   ]
  }
 ],
 "metadata": {
  "kernelspec": {
   "display_name": "Python 3",
   "language": "python",
   "name": "python3"
  },
  "language_info": {
   "codemirror_mode": {
    "name": "ipython",
    "version": 3
   },
   "file_extension": ".py",
   "mimetype": "text/x-python",
   "name": "python",
   "nbconvert_exporter": "python",
   "pygments_lexer": "ipython3",
   "version": "3.6.5"
  }
 },
 "nbformat": 4,
 "nbformat_minor": 2
}
