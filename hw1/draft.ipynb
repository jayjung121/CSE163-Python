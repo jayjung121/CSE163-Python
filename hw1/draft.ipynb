{
 "cells": [
  {
   "cell_type": "code",
   "execution_count": 5,
   "metadata": {},
   "outputs": [],
   "source": [
    "def count_divisible_digits(n, m):\n",
    "    \"\"\"\n",
    "    This function takes two integer numbers n and m as an arguments\n",
    "    and returns the number of digits in n that are divisible by m.\n",
    "    \"\"\"\n",
    "    if n <0:\n",
    "        n = n * -1\n",
    "    if m == 0:\n",
    "        return 0\n",
    "    count = 0\n",
    "    while n != 0:\n",
    "        \n",
    "        digit = n % 10\n",
    "        remainder = digit % m\n",
    "        print(n, remainder)\n",
    "        if remainder == 0:\n",
    "            count += 1\n",
    "        n = n // 10\n",
    "    return count"
   ]
  },
  {
   "cell_type": "code",
   "execution_count": 6,
   "metadata": {
    "scrolled": false
   },
   "outputs": [
    {
     "name": "stdout",
     "output_type": "stream",
     "text": [
      "111 0\n",
      "11 0\n",
      "1 0\n"
     ]
    },
    {
     "data": {
      "text/plain": [
       "3"
      ]
     },
     "execution_count": 6,
     "metadata": {},
     "output_type": "execute_result"
    }
   ],
   "source": [
    "count_divisible_digits(-111, 1)"
   ]
  },
  {
   "cell_type": "code",
   "execution_count": null,
   "metadata": {},
   "outputs": [],
   "source": []
  },
  {
   "cell_type": "code",
   "execution_count": 23,
   "metadata": {},
   "outputs": [],
   "source": [
    "\n",
    "def is_relatively_prime(n, m):\n",
    "    factor_n = get_factor(n)\n",
    "    factor_m = get_factor(m)\n",
    "    return len(factor_n.intersection(factor_m)) == 0\n",
    "\n",
    "\n",
    "\n",
    "def get_factor(n):\n",
    "    result = set()\n",
    "    for i in range(2,n+1):\n",
    "        if n % i == 0:\n",
    "            result.add(i)\n",
    "    return result\n"
   ]
  },
  {
   "cell_type": "code",
   "execution_count": 25,
   "metadata": {},
   "outputs": [
    {
     "data": {
      "text/plain": [
       "False"
      ]
     },
     "execution_count": 25,
     "metadata": {},
     "output_type": "execute_result"
    }
   ],
   "source": [
    "is_relatively_prime(3,6)"
   ]
  },
  {
   "cell_type": "code",
   "execution_count": 7,
   "metadata": {},
   "outputs": [],
   "source": [
    "def travel(dir, x, y):\n",
    "    \"\"\"\n",
    "    \"\"\"\n",
    "    for i in dir.lower():\n",
    "        if i is 'n':\n",
    "            y += 1\n",
    "        elif i is 's':\n",
    "            y -= 1\n",
    "        elif i is 'w':\n",
    "            x -= 1\n",
    "        elif i is 'e':\n",
    "            x += 1\n",
    "    return (x, y)"
   ]
  },
  {
   "cell_type": "code",
   "execution_count": 9,
   "metadata": {},
   "outputs": [
    {
     "data": {
      "text/plain": [
       "(0, 0)"
      ]
     },
     "execution_count": 9,
     "metadata": {},
     "output_type": "execute_result"
    }
   ],
   "source": [
    "travel('SSWWNNWWEESS', 2, 2)\n"
   ]
  },
  {
   "cell_type": "code",
   "execution_count": 29,
   "metadata": {
    "scrolled": false
   },
   "outputs": [
    {
     "data": {
      "text/plain": [
       "(-1, 4)"
      ]
     },
     "execution_count": 29,
     "metadata": {},
     "output_type": "execute_result"
    }
   ],
   "source": [
    "travel('NW!ewnW', 1, 2)"
   ]
  },
  {
   "cell_type": "code",
   "execution_count": 11,
   "metadata": {},
   "outputs": [],
   "source": [
    "def swip_swap(source, c1, c2):\n",
    "    result = \"\"\n",
    "    for i in source:\n",
    "        if i is c1:\n",
    "            result += c2\n",
    "        elif i is c2:\n",
    "            result += c1\n",
    "        else:\n",
    "            result += i\n",
    "    return result"
   ]
  },
  {
   "cell_type": "code",
   "execution_count": 47,
   "metadata": {},
   "outputs": [
    {
     "data": {
      "text/plain": [
       "'foobar'"
      ]
     },
     "execution_count": 47,
     "metadata": {},
     "output_type": "execute_result"
    }
   ],
   "source": [
    "swip_swap('foobar', 'f', 'o')  # 'offbar'\n",
    "swip_swap('foobar', 'b', 'c')  # 'foocar'\n",
    "swip_swap('foobar', 'z', 'c')  # 'foobar'"
   ]
  },
  {
   "cell_type": "code",
   "execution_count": 12,
   "metadata": {},
   "outputs": [
    {
     "data": {
      "text/plain": [
       "'bynugsnjnug'"
      ]
     },
     "execution_count": 12,
     "metadata": {},
     "output_type": "execute_result"
    }
   ],
   "source": [
    "swip_swap('byungsujung', 'u', 'n')"
   ]
  },
  {
   "cell_type": "code",
   "execution_count": 49,
   "metadata": {},
   "outputs": [
    {
     "data": {
      "text/plain": [
       "'foocar'"
      ]
     },
     "execution_count": 49,
     "metadata": {},
     "output_type": "execute_result"
    }
   ],
   "source": [
    "swip_swap('foobar', 'b', 'c') "
   ]
  },
  {
   "cell_type": "code",
   "execution_count": 13,
   "metadata": {},
   "outputs": [],
   "source": [
    "def compress(word):\n",
    "    result = ''\n",
    "    char = word[0]\n",
    "    count = 1\n",
    "    for i in word:\n",
    "        print(i)\n",
    "        if i is char:\n",
    "            count += 1\n",
    "        else:\n",
    "            result = result + char + str(count)\n",
    "            char = i\n",
    "            count = 1\n",
    "    return result + char + str(count)"
   ]
  },
  {
   "cell_type": "code",
   "execution_count": 14,
   "metadata": {},
   "outputs": [],
   "source": [
    "def compress(word):\n",
    "    result = \"\"\n",
    "    if len(word) == 0:\n",
    "        return result\n",
    "    else:\n",
    "        count = 1\n",
    "        for i in range(1,len(word)):\n",
    "            if word[i] is word[i-1]:\n",
    "                count += 1\n",
    "            else:\n",
    "                result = result + word[i-1] + str(count)\n",
    "                count = 1\n",
    "    return result + word[len(word)-1] + str(count)\n",
    "        "
   ]
  },
  {
   "cell_type": "code",
   "execution_count": 17,
   "metadata": {
    "scrolled": true
   },
   "outputs": [
    {
     "data": {
      "text/plain": [
       "'b1y1u1n1g1s1u1j1u1n1g191132191'"
      ]
     },
     "execution_count": 17,
     "metadata": {},
     "output_type": "execute_result"
    }
   ],
   "source": [
    "compress('byungsujung911129')"
   ]
  },
  {
   "cell_type": "code",
   "execution_count": 73,
   "metadata": {},
   "outputs": [],
   "source": [
    "z = \"cooooooooooooooooolkangaroo\""
   ]
  },
  {
   "cell_type": "code",
   "execution_count": 84,
   "metadata": {
    "collapsed": true
   },
   "outputs": [
    {
     "name": "stdout",
     "output_type": "stream",
     "text": [
      "c\n",
      "o\n",
      "o\n",
      "o\n",
      "o\n",
      "o\n",
      "o\n",
      "o\n",
      "o\n",
      "o\n",
      "o\n",
      "o\n",
      "o\n",
      "o\n",
      "o\n",
      "o\n",
      "o\n",
      "o\n",
      "l\n",
      "k\n",
      "a\n",
      "n\n",
      "g\n",
      "a\n",
      "r\n",
      "o\n",
      "o\n"
     ]
    }
   ],
   "source": [
    "for i in z:\n",
    "    print (i)"
   ]
  },
  {
   "cell_type": "code",
   "execution_count": 114,
   "metadata": {},
   "outputs": [],
   "source": [
    "import os"
   ]
  },
  {
   "cell_type": "code",
   "execution_count": 18,
   "metadata": {},
   "outputs": [],
   "source": [
    "def longest_line_length(file_name):\n",
    "    with open(file_name) as file:\n",
    "        lines = file.readlines()\n",
    "        length = 0\n",
    "        for line in lines:\n",
    "            if len(line) > length:\n",
    "                length = len(line)\n",
    "    if length == 0:\n",
    "        return None\n",
    "    else:\n",
    "        return length"
   ]
  },
  {
   "cell_type": "code",
   "execution_count": 19,
   "metadata": {},
   "outputs": [
    {
     "data": {
      "text/plain": [
       "392"
      ]
     },
     "execution_count": 19,
     "metadata": {},
     "output_type": "execute_result"
    }
   ],
   "source": [
    "longest_line_length('test3.txt')"
   ]
  },
  {
   "cell_type": "code",
   "execution_count": 20,
   "metadata": {},
   "outputs": [],
   "source": [
    "def longest_word(file_name):\n",
    "    with open(file_name) as file:\n",
    "        lines = file.readlines()\n",
    "        line_number = -1\n",
    "        longest_word = \"\"\n",
    "        word_length = 0\n",
    "        for index, line in enumerate(lines):\n",
    "            index = index + 1\n",
    "            words = line.split()\n",
    "            for word in words:\n",
    "                if len(word) > word_length:\n",
    "                    longest_word = word\n",
    "                    word_length = len(word)\n",
    "                    line_number = index\n",
    "    if longest_word == \"\":\n",
    "        return None\n",
    "    else:\n",
    "        return str(line_number) + \": \" + longest_word\n"
   ]
  },
  {
   "cell_type": "code",
   "execution_count": 21,
   "metadata": {},
   "outputs": [
    {
     "data": {
      "text/plain": [
       "'3: developing.'"
      ]
     },
     "execution_count": 21,
     "metadata": {},
     "output_type": "execute_result"
    }
   ],
   "source": [
    "longest_word('test3.txt')"
   ]
  },
  {
   "cell_type": "code",
   "execution_count": 18,
   "metadata": {},
   "outputs": [],
   "source": [
    "\n",
    "def mode_digit(n):\n",
    "    if n < 0:\n",
    "        n = n * -1\n",
    "    counts = [0] * 10\n",
    "    if n < 10:\n",
    "        return n\n",
    "    while n != 0:\n",
    "        digit = n % 10\n",
    "        counts[digit] += 1\n",
    "        n = n // 10\n",
    "    max_val = max(counts)\n",
    "    return max([i for i, j in enumerate(counts) if j == max_val])\n"
   ]
  },
  {
   "cell_type": "code",
   "execution_count": 19,
   "metadata": {},
   "outputs": [
    {
     "data": {
      "text/plain": [
       "0"
      ]
     },
     "execution_count": 19,
     "metadata": {},
     "output_type": "execute_result"
    }
   ],
   "source": [
    "mode_digit(0)"
   ]
  },
  {
   "cell_type": "code",
   "execution_count": 17,
   "metadata": {},
   "outputs": [
    {
     "data": {
      "text/plain": [
       "1"
      ]
     },
     "execution_count": 17,
     "metadata": {},
     "output_type": "execute_result"
    }
   ],
   "source": [
    "10//10"
   ]
  },
  {
   "cell_type": "code",
   "execution_count": null,
   "metadata": {},
   "outputs": [],
   "source": []
  }
 ],
 "metadata": {
  "kernelspec": {
   "display_name": "Python 3",
   "language": "python",
   "name": "python3"
  },
  "language_info": {
   "codemirror_mode": {
    "name": "ipython",
    "version": 3
   },
   "file_extension": ".py",
   "mimetype": "text/x-python",
   "name": "python",
   "nbconvert_exporter": "python",
   "pygments_lexer": "ipython3",
   "version": "3.6.5"
  }
 },
 "nbformat": 4,
 "nbformat_minor": 2
}
